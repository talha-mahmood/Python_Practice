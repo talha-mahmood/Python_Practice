{
 "cells": [
  {
   "cell_type": "markdown",
   "metadata": {},
   "source": [
    "# 2-2.4 Intro Python\n",
    "## Lists \n",
    "- List Creation\n",
    "- List Access\n",
    "- List Append\n",
    "- List Insert\n",
    "- **List Delete (`del`, `.pop()` & `.remove()`)**\n",
    "\n",
    "----- \n",
    "\n",
    "><font size=\"5\" color=\"#00A0B2\"  face=\"verdana\"> <B>Student will be able to</B></font>  \n",
    "- Create Lists\n",
    "- Access items in a list\n",
    "- Add Items to the end of a list\n",
    "- Insert items into a list\n",
    "- **Delete items from a list with `del`, `.pop()` & `.remove()`**"
   ]
  },
  {
   "cell_type": "markdown",
   "metadata": {},
   "source": [
    "# &nbsp;\n",
    "<font size=\"6\" color=\"#00A0B2\"  face=\"verdana\"> <B>Concepts</B></font>\n",
    "## Delete a specific List index\n",
    "[![view video](https://iajupyterprodblobs.blob.core.windows.net/imagecontainer/common/play_video.png)]( http://edxinteractivepage.blob.core.windows.net/edxpages/f7cff1a7-5601-48a1-95a6-fd1fdfabd20e.html?details=[{\"src\":\"http://jupyternootbookwams.streaming.mediaservices.windows.net/072d8761-7811-438e-a77f-72c9634c0f8c/Unit2_Section2.4a-Deleting_Specific_Index.ism/manifest\",\"type\":\"application/vnd.ms-sstr+xml\"}],[{\"src\":\"http://jupyternootbookwams.streaming.mediaservices.windows.net/072d8761-7811-438e-a77f-72c9634c0f8c/Unit2_Section2.4a-Deleting_Specific_Index.vtt\",\"srclang\":\"en\",\"kind\":\"subtitles\",\"label\":\"english\"}])\n",
    "### `del ` statement  \n",
    "```python\n",
    "del party_list[2]\n",
    "```"
   ]
  },
  {
   "cell_type": "markdown",
   "metadata": {},
   "source": [
    "# &nbsp;\n",
    "<font size=\"6\" color=\"#00A0B2\"  face=\"verdana\"> <B>Examples</B></font>"
   ]
  },
  {
   "cell_type": "code",
   "execution_count": 1,
   "metadata": {},
   "outputs": [
    {
     "name": "stdout",
     "output_type": "stream",
     "text": [
      "sample_list before:  [11, 21, 13, 14, 51, 161, 117, 181]\n",
      "sample_list after:   [11, 13, 14, 51, 161, 117, 181]\n"
     ]
    }
   ],
   "source": [
    "# [ ] review and run example\n",
    "# the list before delete\n",
    "sample_list = [11, 21, 13, 14, 51, 161, 117, 181]\n",
    "print(\"sample_list before: \", sample_list)\n",
    "\n",
    "del sample_list[1]\n",
    "# the list after delete\n",
    "print(\"sample_list after:  \", sample_list)"
   ]
  },
  {
   "cell_type": "code",
   "execution_count": 2,
   "metadata": {},
   "outputs": [
    {
     "name": "stdout",
     "output_type": "stream",
     "text": [
      "sample_list before: [11, 13, 14, 51, 161, 117, 181]\n",
      "sample_list after: [13, 14, 51, 161, 117, 181]\n"
     ]
    }
   ],
   "source": [
    "# [ ] review and run example Multiple Times\n",
    "# [ ] consider how to reset the list values?\n",
    "print(\"sample_list before:\", sample_list)\n",
    "del sample_list[0]\n",
    "print(\"sample_list after:\", sample_list)"
   ]
  },
  {
   "cell_type": "code",
   "execution_count": 3,
   "metadata": {},
   "outputs": [
    {
     "name": "stdout",
     "output_type": "stream",
     "text": [
      "mixed_types list:  [1, 'cat', 3]\n",
      "mixed_types list:  [1, 'cat', 3, 'turtle']\n"
     ]
    }
   ],
   "source": [
    "# [ ] review and run example\n",
    "mixed_types = [1, \"cat\"]\n",
    "# append number\n",
    "mixed_types.append(3)\n",
    "print(\"mixed_types list: \", mixed_types)\n",
    "\n",
    "# append string\n",
    "mixed_types.append(\"turtle\")\n",
    "print(\"mixed_types list: \", mixed_types)"
   ]
  },
  {
   "cell_type": "markdown",
   "metadata": {
    "collapsed": true
   },
   "source": [
    "# &nbsp;\n",
    "<font size=\"6\" color=\"#B24C00\"  face=\"verdana\"> <B>Task 1</B></font>\n",
    "\n",
    "## `del` statement"
   ]
  },
  {
   "cell_type": "code",
   "execution_count": null,
   "metadata": {},
   "outputs": [],
   "source": [
    "# [ ] print ft_bones list\n",
    "# [ ] delete \"cuboid\" from ft_bones\n",
    "# [ ] reprint list\n",
    "ft_bones = [\"calcaneus\", \"talus\", \"cuboid\", \"navicular\", \"lateral cuneiform\", \n",
    "            \"intermediate cuneiform\", \"medial cuneiform\"]\n",
    "print(ft_bones)\n",
    "del ft_bones[2]\n",
    "print(ft_bones)\n",
    "\n"
   ]
  },
  {
   "cell_type": "markdown",
   "metadata": {},
   "source": [
    "# &nbsp;\n",
    "<font size=\"6\" color=\"#B24C00\"  face=\"verdana\"> <B>Task 2</B></font>  \n",
    "## multiple `del` statements "
   ]
  },
  {
   "cell_type": "code",
   "execution_count": null,
   "metadata": {},
   "outputs": [],
   "source": [
    "# [ ] print ft_bones list\n",
    "# [ ] delete \"cuboid\" from ft_bones\n",
    "# [ ] delete \"navicular\" from list\n",
    "# [ ] reprint list\n",
    "# [ ] check for deletion of \"cuboid\" and \"navicular\"\n",
    "ft_bones = [\"calcaneus\", \"talus\", \"cuboid\", \"navicular\", \"lateral cuneiform\", \n",
    "            \"intermediate cuneiform\", \"medial cuneiform\"]\n",
    "\n",
    "print(ft_bones)\n",
    "del ft_bones[2]\n",
    "del ft_bones[3]\n",
    "print(ft_bones)\n",
    "\n",
    "if ft_bones[2] == \"cuboid\":\n",
    "   print(\"third item not deleted\")\n",
    "else:\n",
    "    print(\"third item deleted\")\n",
    "\n",
    "if ft_bones[3] == \"navicular\":\n",
    "   print(\"fourth item not deleted\")\n",
    "else:\n",
    "    print(\"fourth item deleted\")\n",
    "\n",
    "\n"
   ]
  },
  {
   "cell_type": "markdown",
   "metadata": {},
   "source": [
    "# &nbsp;\n",
    "<font size=\"6\" color=\"#00A0B2\"  face=\"verdana\"> <B>Concepts</B></font>\n",
    "## .pop() gets and deletes item in list\n",
    "[![view video](https://iajupyterprodblobs.blob.core.windows.net/imagecontainer/common/play_video.png)]( http://edxinteractivepage.blob.core.windows.net/edxpages/f7cff1a7-5601-48a1-95a6-fd1fdfabd20e.html?details=[{\"src\":\"http://jupyternootbookwams.streaming.mediaservices.windows.net/67b83f30-a92c-4d1f-a7a3-ca257dd4db4e/Unit2_Section2.4b-List_Pop_Method.ism/manifest\",\"type\":\"application/vnd.ms-sstr+xml\"}],[{\"src\":\"http://jupyternootbookwams.streaming.mediaservices.windows.net/67b83f30-a92c-4d1f-a7a3-ca257dd4db4e/Unit2_Section2.4b-List_Pop_Method.vtt\",\"srclang\":\"en\",\"kind\":\"subtitles\",\"label\":\"english\"}])\n",
    "### `.pop()`  method default is last item in a list\n",
    "```python\n",
    "last_item = party_list.pop()\n",
    "first_item = party_list.pop(0)\n",
    "```"
   ]
  },
  {
   "cell_type": "markdown",
   "metadata": {},
   "source": [
    "# &nbsp;\n",
    "<font size=\"6\" color=\"#00A0B2\"  face=\"verdana\"> <B>Examples</B></font>"
   ]
  },
  {
   "cell_type": "code",
   "execution_count": 4,
   "metadata": {},
   "outputs": [
    {
     "name": "stdout",
     "output_type": "stream",
     "text": [
      "['Joana', 'Alton', 'Tobias']\n",
      "Hello, Tobias\n",
      "\n",
      " ['Joana', 'Alton']\n",
      "Hello, Alton\n",
      "\n",
      " ['Joana']\n",
      "Hello, Joana\n",
      "\n",
      " []\n"
     ]
    }
   ],
   "source": [
    "# [ ] review and run example\n",
    "# pop() gets the last item by default\n",
    "party_list = [\"Joana\", \"Alton\", \"Tobias\"]\n",
    "print(party_list)\n",
    "print(\"Hello,\", party_list.pop())\n",
    "\n",
    "print(\"\\n\", party_list)\n",
    "print(\"Hello,\", party_list.pop())\n",
    "\n",
    "print(\"\\n\", party_list)\n",
    "print(\"Hello,\", party_list.pop())\n",
    "\n",
    "print(\"\\n\", party_list)"
   ]
  },
  {
   "cell_type": "code",
   "execution_count": 5,
   "metadata": {},
   "outputs": [
    {
     "name": "stdout",
     "output_type": "stream",
     "text": [
      "before: [11, 21, 13, 14, 51, 161, 117, 181]\n",
      "after : [11, 21, 13, 51, 161, 117, 181]\n"
     ]
    }
   ],
   "source": [
    "# [ ] review and run example\n",
    "# can pop specific index like pop(3)\n",
    "number_list = [11, 21, 13, 14, 51, 161, 117, 181]\n",
    "print(\"before:\", number_list)\n",
    "number_list.pop(3)\n",
    "print(\"after :\", number_list)\n"
   ]
  },
  {
   "cell_type": "code",
   "execution_count": 6,
   "metadata": {},
   "outputs": [
    {
     "name": "stdout",
     "output_type": "stream",
     "text": [
      "list before: [11, 21, 13, 14, 51, 161, 117, 181]\n",
      "list after : [11, 21, 13, 14, 51, 161]\n",
      "add the popped values: 181 + 117 = 298\n"
     ]
    }
   ],
   "source": [
    "# [ ] review and run example\n",
    "# set a variable to a poped value\n",
    "number_list = [11, 21, 13, 14, 51, 161, 117, 181]\n",
    "print(\"list before:\", number_list)\n",
    "num_1 = number_list.pop()\n",
    "num_2 = number_list.pop()\n",
    "print(\"list after :\", number_list)\n",
    "print(\"add the popped values:\", num_1, \"+\", num_2, \"=\", num_1 + num_2)"
   ]
  },
  {
   "cell_type": "markdown",
   "metadata": {
    "collapsed": true
   },
   "source": [
    "# &nbsp;\n",
    "<font size=\"6\" color=\"#B24C00\"  face=\"verdana\"> <B>Task 3</B></font>  \n",
    "## `pop()`"
   ]
  },
  {
   "cell_type": "code",
   "execution_count": 7,
   "metadata": {},
   "outputs": [
    {
     "name": "stdout",
     "output_type": "stream",
     "text": [
      "calcaneus\n",
      "medial cuneiform\n",
      "['talus', 'cuboid', 'navicular', 'lateral cuneiform', 'intermediate cuneiform']\n"
     ]
    }
   ],
   "source": [
    "# [ ] pop() and print the first and last items from the ft_bones list\n",
    "ft_bones = [\"calcaneus\", \"talus\", \"cuboid\", \"navicular\", \"lateral cuneiform\", \n",
    "            \"intermediate cuneiform\", \"medial cuneiform\"]\n",
    "print(ft_bones.pop(0))\n",
    "print(ft_bones.pop())\n",
    "# [ ] print the remaining list\n",
    "print(ft_bones)\n"
   ]
  },
  {
   "cell_type": "markdown",
   "metadata": {},
   "source": [
    "# &nbsp;\n",
    "<font size=\"6\" color=\"#00A0B2\"  face=\"verdana\"> <B>Concepts</B></font>\n",
    "## an empty list is False\n",
    "[![view video](https://iajupyterprodblobs.blob.core.windows.net/imagecontainer/common/play_video.png)]( http://edxinteractivepage.blob.core.windows.net/edxpages/f7cff1a7-5601-48a1-95a6-fd1fdfabd20e.html?details=[{\"src\":\"http://jupyternootbookwams.streaming.mediaservices.windows.net/20e00a13-a9d2-4a35-b75d-f6533fa15cbd/Unit2_Section2.4c-Empty_List_is_False.ism/manifest\",\"type\":\"application/vnd.ms-sstr+xml\"}],[{\"src\":\"http://jupyternootbookwams.streaming.mediaservices.windows.net/20e00a13-a9d2-4a35-b75d-f6533fa15cbd/Unit2_Section2.4c-Empty_List_is_False.vtt\",\"srclang\":\"en\",\"kind\":\"subtitles\",\"label\":\"english\"}])\n",
    "### in a conditional an empty list will evaluate `False`\n",
    "This allows creating a while loop that runs until a list is empty\n",
    "```python\n",
    "while dog_types: \n",
    "```"
   ]
  },
  {
   "cell_type": "markdown",
   "metadata": {},
   "source": [
    "# &nbsp;\n",
    "<font size=\"6\" color=\"#00A0B2\"  face=\"verdana\"> <B>Example</B></font>"
   ]
  },
  {
   "cell_type": "code",
   "execution_count": 8,
   "metadata": {},
   "outputs": [
    {
     "name": "stdout",
     "output_type": "stream",
     "text": [
      "Poodle\n",
      "Pug\n",
      "Lab\n"
     ]
    }
   ],
   "source": [
    "dog_types = [\"Lab\", \"Pug\", \"Poodle\"]\n",
    "\n",
    "while dog_types: \n",
    "    print(dog_types.pop())"
   ]
  },
  {
   "cell_type": "markdown",
   "metadata": {},
   "source": [
    "# &nbsp;\n",
    "<font size=\"6\" color=\"#B24C00\"  face=\"verdana\"> <B>Task 4 pt 1</B></font>\n",
    "# Cash Register Input\n",
    "- create a empty list `purchase_amounts`\n",
    "- populate the list with user input for the price of items\n",
    "- continue adding to list with `while` until \"done\" is entered\n",
    "  - can use `while True:` with `break`\n",
    "- print `purchase_amounts`\n",
    "- continue to pt 2"
   ]
  },
  {
   "cell_type": "code",
   "execution_count": 3,
   "metadata": {},
   "outputs": [
    {
     "name": "stdout",
     "output_type": "stream",
     "text": [
      "Enter item price and done to exit 56\n",
      "Enter item price and done to exit 34\n",
      "Enter item price and done to exit done\n",
      "3456\n",
      " \n"
     ]
    }
   ],
   "source": [
    "#[ ] complete the Register Input task above\n",
    "purchase_amounts = ''\n",
    "\n",
    "while True:\n",
    "    prc = input(\"Enter item price and done to exit \")\n",
    "    if prc != 'done':\n",
    "        purchase_amounts = prc + purchase_amounts\n",
    "    else:\n",
    "        print(purchase_amounts)\n",
    "        break\n"
   ]
  },
  {
   "cell_type": "markdown",
   "metadata": {},
   "source": [
    "# &nbsp;\n",
    "<font size=\"6\" color=\"#B24C00\"  face=\"verdana\"> <B>Task 4 pt 2</B></font>\n",
    "# Cash Register Total\n",
    "- create a **`subtotal`** variable = 0\n",
    "create a while loop that runs **`while`** purchase_amount (is not empty)\n",
    "- inside the loop \n",
    "  - **`pop()`** the last list value cast as a float type\n",
    "  - add the float value to a **`subtotal`** variable\n",
    "- after exiting the loop print **`subtotal`**  \n",
    "  \n",
    "  *be sure to populate purchase_amounts by running pt 1 above*"
   ]
  },
  {
   "cell_type": "code",
   "execution_count": 4,
   "metadata": {},
   "outputs": [
    {
     "name": "stdout",
     "output_type": "stream",
     "text": [
      "133.4\n"
     ]
    }
   ],
   "source": [
    "# [ ] complete the Register Total task above\n",
    "subtotal = 0 \n",
    "purchase_amount=[34,67.4,32]\n",
    "while purchase_amount != []:\n",
    "      float_value = float(purchase_amount.pop())\n",
    "      subtotal += float_value\n",
    "\n",
    "print(subtotal)\n"
   ]
  },
  {
   "cell_type": "markdown",
   "metadata": {},
   "source": [
    "# &nbsp;\n",
    "<font size=\"6\" color=\"#00A0B2\"  face=\"verdana\"> <B>Concepts</B></font>\n",
    "## Delete a specific object from a list with `.remove()`\n",
    "[![view video](https://iajupyterprodblobs.blob.core.windows.net/imagecontainer/common/play_video.png)]( http://edxinteractivepage.blob.core.windows.net/edxpages/f7cff1a7-5601-48a1-95a6-fd1fdfabd20e.html?details=[{\"src\":\"http://jupyternootbookwams.streaming.mediaservices.windows.net/31fadf38-670c-4ba9-aa68-1934db459c4d/Unit2_Section2.4d-Removing_Object_from_List.ism/manifest\",\"type\":\"application/vnd.ms-sstr+xml\"}],[{\"src\":\"http://jupyternootbookwams.streaming.mediaservices.windows.net/31fadf38-670c-4ba9-aa68-1934db459c4d/Unit2_Section2.4d-Removing_Object_from_List.vtt\",\"srclang\":\"en\",\"kind\":\"subtitles\",\"label\":\"english\"}])\n",
    "### `.remove(object)` removes the 1st item that matches\n",
    "\n",
    "```python\n",
    "dog_types.remove(\"Pug\")\n",
    "```\n",
    ">**`ValueError`** occurs if the object is not available to be removed  "
   ]
  },
  {
   "cell_type": "markdown",
   "metadata": {},
   "source": [
    "# &nbsp;\n",
    "<font size=\"6\" color=\"#00A0B2\"  face=\"verdana\"> <B>Examples</B></font>"
   ]
  },
  {
   "cell_type": "code",
   "execution_count": 5,
   "metadata": {},
   "outputs": [
    {
     "name": "stdout",
     "output_type": "stream",
     "text": [
      "['Lab', 'Poodle']\n"
     ]
    }
   ],
   "source": [
    "# [ ] review and run example\n",
    "dog_types = [\"Lab\", \"Pug\", \"Poodle\"]\n",
    "\n",
    "if \"Pug\" in dog_types:\n",
    "    dog_types.remove(\"Pug\")\n",
    "else:\n",
    "    print(\"no Pug found\")\n",
    "print(dog_types)"
   ]
  },
  {
   "cell_type": "code",
   "execution_count": 6,
   "metadata": {},
   "outputs": [
    {
     "name": "stdout",
     "output_type": "stream",
     "text": [
      "['Lab', 'Pug', 'Poodle', 'Poodle', 'Pug', 'Poodle']\n",
      "['Lab', 'Pug', 'Poodle', 'Pug', 'Poodle']\n",
      "['Lab', 'Pug', 'Pug', 'Poodle']\n",
      "['Lab', 'Pug', 'Pug']\n"
     ]
    }
   ],
   "source": [
    "# [ ] review and run example\n",
    "dogs = [\"Lab\", \"Pug\", \"Poodle\", \"Poodle\", \"Pug\", \"Poodle\"]\n",
    "\n",
    "print(dogs)\n",
    "while \"Poodle\" in dogs:\n",
    "    dogs.remove(\"Poodle\")\n",
    "    print(dogs)"
   ]
  },
  {
   "cell_type": "markdown",
   "metadata": {},
   "source": [
    "### ValueError"
   ]
  },
  {
   "cell_type": "code",
   "execution_count": 7,
   "metadata": {},
   "outputs": [
    {
     "ename": "ValueError",
     "evalue": "list.remove(x): x not in list",
     "output_type": "error",
     "traceback": [
      "\u001b[1;31m---------------------------------------------------------------------------\u001b[0m",
      "\u001b[1;31mValueError\u001b[0m                                Traceback (most recent call last)",
      "\u001b[1;32m~\\AppData\\Local\\Temp/ipykernel_13940/4109865862.py\u001b[0m in \u001b[0;36m<module>\u001b[1;34m\u001b[0m\n\u001b[0;32m      1\u001b[0m \u001b[1;31m# [ ] review and run example\u001b[0m\u001b[1;33m\u001b[0m\u001b[1;33m\u001b[0m\u001b[0m\n\u001b[0;32m      2\u001b[0m \u001b[1;31m# Change to \"Lab\", etc... to fix error\u001b[0m\u001b[1;33m\u001b[0m\u001b[1;33m\u001b[0m\u001b[0m\n\u001b[1;32m----> 3\u001b[1;33m \u001b[0mdogs\u001b[0m\u001b[1;33m.\u001b[0m\u001b[0mremove\u001b[0m\u001b[1;33m(\u001b[0m\u001b[1;34m\"Collie\"\u001b[0m\u001b[1;33m)\u001b[0m\u001b[1;33m\u001b[0m\u001b[1;33m\u001b[0m\u001b[0m\n\u001b[0m\u001b[0;32m      4\u001b[0m \u001b[0mprint\u001b[0m\u001b[1;33m(\u001b[0m\u001b[0mdogs\u001b[0m\u001b[1;33m)\u001b[0m\u001b[1;33m\u001b[0m\u001b[1;33m\u001b[0m\u001b[0m\n",
      "\u001b[1;31mValueError\u001b[0m: list.remove(x): x not in list"
     ]
    }
   ],
   "source": [
    "# [ ] review and run example\n",
    "# Change to \"Lab\", etc... to fix error\n",
    "dogs.remove(\"Collie\")\n",
    "print(dogs)"
   ]
  },
  {
   "cell_type": "markdown",
   "metadata": {
    "collapsed": true
   },
   "source": [
    "# &nbsp;\n",
    "<font size=\"6\" color=\"#B24C00\"  face=\"verdana\"> <B>Task 5</B></font>  \n",
    "## `.remove()`"
   ]
  },
  {
   "cell_type": "code",
   "execution_count": 8,
   "metadata": {},
   "outputs": [
    {
     "name": "stdout",
     "output_type": "stream",
     "text": [
      "['Lab', 'Pug', 'Poodle', 'Poodle', 'Pug', 'Poodle']\n",
      "['Lab', 'Pug', 'Poodle', 'Pug', 'Poodle']\n"
     ]
    }
   ],
   "source": [
    "# [ ] remove one \"Poodle\" from the list: dogs , or print \"no Poodle found\"\n",
    "# [ ] print list before and after\n",
    "dogs = [\"Lab\", \"Pug\", \"Poodle\", \"Poodle\", \"Pug\", \"Poodle\"]\n",
    "print(dogs)\n",
    "i=\"Poodle\"\n",
    "if i in dogs:\n",
    "    dogs.remove(i)\n",
    "    print(dogs)\n",
    "else:\n",
    "    print(\" Poodle not found\")\n"
   ]
  },
  {
   "cell_type": "markdown",
   "metadata": {},
   "source": [
    "[Terms of use](http://go.microsoft.com/fwlink/?LinkID=206977) &nbsp; [Privacy & cookies](https://go.microsoft.com/fwlink/?LinkId=521839) &nbsp; © 2017 Microsoft"
   ]
  }
 ],
 "metadata": {
  "anaconda-cloud": {},
  "kernelspec": {
   "display_name": "Python 3 (ipykernel)",
   "language": "python",
   "name": "python3"
  },
  "language_info": {
   "codemirror_mode": {
    "name": "ipython",
    "version": 3
   },
   "file_extension": ".py",
   "mimetype": "text/x-python",
   "name": "python",
   "nbconvert_exporter": "python",
   "pygments_lexer": "ipython3",
   "version": "3.9.7"
  }
 },
 "nbformat": 4,
 "nbformat_minor": 1
}

{
 "cells": [
  {
   "cell_type": "code",
   "execution_count": 5,
   "id": "2d640a28",
   "metadata": {},
   "outputs": [
    {
     "name": "stdout",
     "output_type": "stream",
     "text": [
      "H\n",
      "i\n",
      "r\n",
      "o\n"
     ]
    }
   ],
   "source": [
    "# [ ] Print the first 4 letters of name on new line\n",
    "name = \"Hiroto\"\n",
    "count=0\n",
    "for i in name:\n",
    "    if count==4:\n",
    "        break;\n",
    "    count+=1\n",
    "    print(i)\n",
    "            \n",
    "    \n",
    "    \n",
    "\n",
    "        \n",
    "    \n",
    "    \n"
   ]
  },
  {
   "cell_type": "code",
   "execution_count": 6,
   "id": "76db0fc1",
   "metadata": {},
   "outputs": [
    {
     "name": "stdout",
     "output_type": "stream",
     "text": [
      "code_tip: code a conditional decision like you would say it\n",
      "count of i 6\n",
      "11\n",
      "13\n",
      "22\n",
      "24\n",
      "29\n",
      "47\n"
     ]
    }
   ],
   "source": [
    "# [ ]  count times letter \"i\" appears in code_tip string\n",
    "# [ ] find and display the index of all the letter i's in code_tip\n",
    "# Remember: if .find(\"i\") has No Match, -1 is returned\n",
    "code_tip = \"code a conditional decision like you would say it\"\n",
    "print (\"code_tip:\" , code_tip)\n",
    "count=code_tip.count(\"i\")\n",
    "print(\"count of i\",count)\n",
    "s=0\n",
    "z=0\n",
    "while z!=-1:\n",
    "    z=code_tip.find(\"i\",s)\n",
    "    if z==-1:\n",
    "        break\n",
    "    \n",
    "    print(z)\n",
    "    s=z+1\n",
    "    \n",
    "    \n",
    "\n",
    "    "
   ]
  },
  {
   "cell_type": "code",
   "execution_count": null,
   "id": "6ec51c10",
   "metadata": {},
   "outputs": [],
   "source": []
  }
 ],
 "metadata": {
  "kernelspec": {
   "display_name": "Python 3 (ipykernel)",
   "language": "python",
   "name": "python3"
  },
  "language_info": {
   "codemirror_mode": {
    "name": "ipython",
    "version": 3
   },
   "file_extension": ".py",
   "mimetype": "text/x-python",
   "name": "python",
   "nbconvert_exporter": "python",
   "pygments_lexer": "ipython3",
   "version": "3.9.7"
  }
 },
 "nbformat": 4,
 "nbformat_minor": 5
}

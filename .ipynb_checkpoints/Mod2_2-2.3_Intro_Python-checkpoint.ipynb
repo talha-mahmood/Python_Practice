{
 "cells": [
  {
   "cell_type": "markdown",
   "metadata": {},
   "source": [
    "# 2-2.3 Intro Python\n",
    "## Lists \n",
    "- List Creation\n",
    "- List Access\n",
    "- List Append\n",
    "- **List *modify* and Insert**\n",
    "- List Delete\n",
    "\n",
    "----- \n",
    "\n",
    "><font size=\"5\" color=\"#00A0B2\"  face=\"verdana\"> <B>Student will be able to</B></font>  \n",
    "- Create Lists\n",
    "- Access items in a list\n",
    "- Add Items to the end of a list\n",
    "- **Modify and insert items into a list**\n",
    "- Delete items from a list"
   ]
  },
  {
   "cell_type": "markdown",
   "metadata": {},
   "source": [
    "# &nbsp;\n",
    "<font size=\"6\" color=\"#00A0B2\"  face=\"verdana\"> <B>Concepts</B></font>\n",
    "## Insert a new value for an index\n",
    "[![view video](https://iajupyterprodblobs.blob.core.windows.net/imagecontainer/common/play_video.png)]( http://edxinteractivepage.blob.core.windows.net/edxpages/f7cff1a7-5601-48a1-95a6-fd1fdfabd20e.html?details=[{\"src\":\"http://jupyternootbookwams.streaming.mediaservices.windows.net/219b35cf-03b5-4b57-8fbc-f5864281312d/Unit2_Section2.3a-Overwriting_an_Index.ism/manifest\",\"type\":\"application/vnd.ms-sstr+xml\"}],[{\"src\":\"http://jupyternootbookwams.streaming.mediaservices.windows.net/219b35cf-03b5-4b57-8fbc-f5864281312d/Unit2_Section2.3a-Overwriting_an_Index.vtt\",\"srclang\":\"en\",\"kind\":\"subtitles\",\"label\":\"english\"}])\n",
    "### overwrite a specific index in a list\n",
    "```python\n",
    "party_list[2] = \"Tobias\"\n",
    "```\n",
    "- **Overwrites** existing index\n",
    "- **Cannot** use to **Append** a new index to the list\n"
   ]
  },
  {
   "cell_type": "markdown",
   "metadata": {},
   "source": [
    "# &nbsp;\n",
    "<font size=\"6\" color=\"#00A0B2\"  face=\"verdana\"> <B>Examples</B></font>"
   ]
  },
  {
   "cell_type": "code",
   "execution_count": 1,
   "metadata": {},
   "outputs": [
    {
     "name": "stdout",
     "output_type": "stream",
     "text": [
      "party_list before:  ['Joana', 'Alton', 'Tobias']\n",
      "party_list after:   ['Joana', 'Colette', 'Tobias']\n"
     ]
    }
   ],
   "source": [
    "# [ ] review and run example\n",
    "# the list before Insert\n",
    "party_list = [\"Joana\", \"Alton\", \"Tobias\"]\n",
    "print(\"party_list before: \", party_list)\n",
    "\n",
    "# the list after Insert\n",
    "party_list[1] = \"Colette\"\n",
    "print(\"party_list after:  \", party_list)"
   ]
  },
  {
   "cell_type": "code",
   "execution_count": 2,
   "metadata": {},
   "outputs": [
    {
     "name": "stdout",
     "output_type": "stream",
     "text": [
      "before: ['Joana', 'Alton', 'Tobias']\n",
      "\n",
      "after: ['Joana', 'Alton Derosa', 'Tobias']\n"
     ]
    }
   ],
   "source": [
    "# [ ] review and run example\n",
    "party_list = [\"Joana\", \"Alton\", \"Tobias\"]\n",
    "print(\"before:\",party_list)\n",
    "\n",
    "# modify index value\n",
    "party_list[1] = party_list[1] + \" Derosa\"\n",
    "print(\"\\nafter:\", party_list)"
   ]
  },
  {
   "cell_type": "markdown",
   "metadata": {},
   "source": [
    "<font size=\"3\" color=\"#00A0B2\"  face=\"verdana\"> <B>Example</B></font>  \n",
    "**IndexError**  "
   ]
  },
  {
   "cell_type": "code",
   "execution_count": 3,
   "metadata": {},
   "outputs": [
    {
     "ename": "IndexError",
     "evalue": "list assignment index out of range",
     "output_type": "error",
     "traceback": [
      "\u001b[1;31m---------------------------------------------------------------------------\u001b[0m",
      "\u001b[1;31mIndexError\u001b[0m                                Traceback (most recent call last)",
      "\u001b[1;32m~\\AppData\\Local\\Temp/ipykernel_5164/2139414982.py\u001b[0m in \u001b[0;36m<module>\u001b[1;34m\u001b[0m\n\u001b[0;32m      4\u001b[0m \u001b[1;33m\u001b[0m\u001b[0m\n\u001b[0;32m      5\u001b[0m \u001b[1;31m# IndexError trying to append to end of list\u001b[0m\u001b[1;33m\u001b[0m\u001b[1;33m\u001b[0m\u001b[0m\n\u001b[1;32m----> 6\u001b[1;33m \u001b[0mparty_list\u001b[0m\u001b[1;33m[\u001b[0m\u001b[1;36m3\u001b[0m\u001b[1;33m]\u001b[0m \u001b[1;33m=\u001b[0m \u001b[1;34m\"Alton\"\u001b[0m\u001b[1;33m\u001b[0m\u001b[1;33m\u001b[0m\u001b[0m\n\u001b[0m\u001b[0;32m      7\u001b[0m \u001b[0mprint\u001b[0m\u001b[1;33m(\u001b[0m\u001b[0mparty_list\u001b[0m\u001b[1;33m)\u001b[0m\u001b[1;33m\u001b[0m\u001b[1;33m\u001b[0m\u001b[0m\n",
      "\u001b[1;31mIndexError\u001b[0m: list assignment index out of range"
     ]
    }
   ],
   "source": [
    "# IndexError Example\n",
    "# [ ] review and run example which results in an IndexError\n",
    "# if result is NameError run cell above before running this cell\n",
    "\n",
    "# IndexError trying to append to end of list\n",
    "party_list[3] = \"Alton\"\n",
    "print(party_list)"
   ]
  },
  {
   "cell_type": "code",
   "execution_count": 4,
   "metadata": {},
   "outputs": [
    {
     "name": "stdout",
     "output_type": "stream",
     "text": [
      "single_digits:  ['zero', 'one', 'two', 'three', 'four', 'five', 'six', 'seven', 'eight', 'nine']\n",
      "single_digits[3]:  three <class 'str'> \n",
      "\n",
      "single_digits:  ['zero', 'one', 'two', 3, 'four', 'five', 'six', 'seven', 'eight', 'nine']\n",
      "single_digits[3]:  3 <class 'int'>\n"
     ]
    }
   ],
   "source": [
    "# [ ] review and run example changes the data type of an element\n",
    "# replace a string with a number (int)\n",
    "single_digits = [\"zero\", \"one\", \"two\", \"three\", \"four\", \"five\", \"six\", \"seven\", \"eight\", \"nine\"] \n",
    "print(\"single_digits: \", single_digits)\n",
    "print(\"single_digits[3]: \", single_digits[3], type(single_digits[3]),\"\\n\")\n",
    "\n",
    "# replace string with an int\n",
    "single_digits[3] = 3\n",
    "print(\"single_digits: \", single_digits)\n",
    "print(\"single_digits[3]: \", single_digits[3], type(single_digits[3]))"
   ]
  },
  {
   "cell_type": "markdown",
   "metadata": {
    "collapsed": true
   },
   "source": [
    "# &nbsp;\n",
    "<font size=\"6\" color=\"#B24C00\"  face=\"verdana\"> <B>Task 1</B></font>\n",
    "\n",
    "## replace items in a list\n",
    "- create a list, **`three_num`**, containing 3 single digit integers\n",
    "- print three_num\n",
    "- check if index 0 value is < 5\n",
    "  - if < 5 , replace index 0 with a string: \"small\"\n",
    "  - else, replace index 0 with a string: \"large\"\n",
    "- print three_num"
   ]
  },
  {
   "cell_type": "code",
   "execution_count": 1,
   "metadata": {},
   "outputs": [
    {
     "name": "stdout",
     "output_type": "stream",
     "text": [
      "[6, 1, 5]\n",
      "['large', 1, 5]\n"
     ]
    }
   ],
   "source": [
    "# [ ] complete \"replace items in a list\" task\n",
    "three_num = [6, 1, 5]\n",
    "print(three_num)\n",
    "\n",
    "if three_num[0]<5:\n",
    "    three_num[0] = \"small\"\n",
    "else:\n",
    "    three_num[0] = \"large\"\n",
    "\n",
    "print(three_num)\n",
    " \n"
   ]
  },
  {
   "cell_type": "markdown",
   "metadata": {},
   "source": [
    "## Function Challenge: create replacement function\n",
    "- Create a function, **str_replace**, that takes 2 arguments: int_list and index \n",
    "  - int_list is a list of single digit integers\n",
    "  - index is the index that will be checked - such as with int_list[index]\n",
    "- Function replicates purpose of task \"replace items in a list\" above and replaces an integer with a string \"small\" or \"large\"\n",
    "- return int_list\n",
    "\n",
    "Test the function!"
   ]
  },
  {
   "cell_type": "code",
   "execution_count": 2,
   "metadata": {},
   "outputs": [
    {
     "name": "stdout",
     "output_type": "stream",
     "text": [
      "['small', 5, 7]\n"
     ]
    }
   ],
   "source": [
    "# [ ]  create challenge function\n",
    "\n",
    "def str_replace(int_list,index):\n",
    "    \n",
    "    if int_list[index]<5:\n",
    "        int_list[index] = \"small\"\n",
    "    else:\n",
    "        int_list[index] = \"large\"\n",
    "\n",
    "    print(int_list)\n",
    "\n",
    "str_replace([1,5,7],0)\n"
   ]
  },
  {
   "cell_type": "markdown",
   "metadata": {
    "collapsed": true
   },
   "source": [
    "# &nbsp;\n",
    "<font size=\"6\" color=\"#B24C00\"  face=\"verdana\"> <B>Task 2</B></font>\n",
    "\n",
    "## modify items in a list\n",
    "- create a list, **`three_words`**, containing 3 different capitalized word stings\n",
    "- print three_words\n",
    "- modify the first item in three_words to uppercase\n",
    "- modify the third item to swapcase\n",
    "- print three_words"
   ]
  },
  {
   "cell_type": "code",
   "execution_count": 4,
   "metadata": {},
   "outputs": [
    {
     "name": "stdout",
     "output_type": "stream",
     "text": [
      "['Cricket', 'Bedminton', 'Football']\n",
      "['CRICKET', 'Bedminton', 'fOOTBALL']\n"
     ]
    }
   ],
   "source": [
    "# [ ] complete coding task described above\n",
    "three_words = [\"Cricket\",\"Bedminton\",\"Football\"]\n",
    "print(three_words)\n",
    "\n",
    "three_words[0] = three_words[0].upper()\n",
    "three_words[2] = three_words[2].swapcase()\n",
    "\n",
    "print(three_words)\n",
    " \n"
   ]
  },
  {
   "cell_type": "markdown",
   "metadata": {},
   "source": [
    "# &nbsp;\n",
    "<font size=\"6\" color=\"#00A0B2\"  face=\"verdana\"> <B>Concepts</B></font>\n",
    "## Insert items into a list\n",
    "[![view video](https://iajupyterprodblobs.blob.core.windows.net/imagecontainer/common/play_video.png)]( http://edxinteractivepage.blob.core.windows.net/edxpages/f7cff1a7-5601-48a1-95a6-fd1fdfabd20e.html?details=[{\"src\":\"http://jupyternootbookwams.streaming.mediaservices.windows.net/659b9cd2-1e84-4ead-8a69-015c737577cd/Unit2_Section2.3b-Inserting_Items_into_Lists.ism/manifest\",\"type\":\"application/vnd.ms-sstr+xml\"}],[{\"src\":\"http://jupyternootbookwams.streaming.mediaservices.windows.net/659b9cd2-1e84-4ead-8a69-015c737577cd/Unit2_Section2.3b-Inserting_Items_into_Lists.vtt\",\"srclang\":\"en\",\"kind\":\"subtitles\",\"label\":\"english\"}])\n",
    "### use `.insert()` to define an index to insert an item\n",
    "```python\n",
    "party_list.insert(2,\"Tobias\")\n",
    "```\n",
    "- Inserts, **doesn't overwrite**\n",
    "- **Increases index by 1**, at and above the insertion point\n",
    "- **Can** use to **Append** a new index to the end of the list\n"
   ]
  },
  {
   "cell_type": "markdown",
   "metadata": {},
   "source": [
    "# &nbsp;\n",
    "<font size=\"6\" color=\"#00A0B2\"  face=\"verdana\"> <B>Examples</B></font>"
   ]
  },
  {
   "cell_type": "code",
   "execution_count": 5,
   "metadata": {},
   "outputs": [
    {
     "name": "stdout",
     "output_type": "stream",
     "text": [
      "party_list before:  ['Joana', 'Alton', 'Tobias']\n",
      "index 1 is Alton \n",
      "index 2 is Tobias \n",
      "\n",
      "party_list after:   ['Joana', 'Colette', 'Alton', 'Tobias']\n",
      "index 1 is Colette \n",
      "index 2 is Alton \n",
      "index 3 is Tobias\n"
     ]
    }
   ],
   "source": [
    "# [ ] review and run example\n",
    "# the list before Insert\n",
    "party_list = [\"Joana\", \"Alton\", \"Tobias\"]\n",
    "print(\"party_list before: \", party_list)\n",
    "print(\"index 1 is\", party_list[1], \"\\nindex 2 is\", party_list[2], \"\\n\")\n",
    "\n",
    "# the list after Insert\n",
    "party_list.insert(1,\"Colette\")\n",
    "print(\"party_list after:  \", party_list)\n",
    "print(\"index 1 is\", party_list[1], \"\\nindex 2 is\", party_list[2], \"\\nindex 3 is\", party_list[3])"
   ]
  },
  {
   "cell_type": "markdown",
   "metadata": {
    "collapsed": true
   },
   "source": [
    "# &nbsp;\n",
    "<font size=\"6\" color=\"#B24C00\"  face=\"verdana\"> <B>Task 3</B></font>  \n",
    "## `insert()` input into a list "
   ]
  },
  {
   "cell_type": "code",
   "execution_count": 5,
   "metadata": {},
   "outputs": [
    {
     "name": "stdout",
     "output_type": "stream",
     "text": [
      "Enter a name: faizan\n",
      "['subhan', 'faizan', 'talha', 'ali']\n"
     ]
    }
   ],
   "source": [
    "# [ ] insert a name from user input into the party_list in the second position (index 1)\n",
    "party_list = [\"subhan\", \"talha\", \"ali\"]\n",
    "name = input(\"Enter a name: \")\n",
    "party_list.insert(1,name)\n",
    "\n",
    "# [ ] print the updated list\n",
    "print(party_list)\n"
   ]
  },
  {
   "cell_type": "markdown",
   "metadata": {},
   "source": [
    "# &nbsp;\n",
    "<font size=\"6\" color=\"#B24C00\"  face=\"verdana\"> <B>Task 4</B></font>\n",
    "## Fix The Error\n"
   ]
  },
  {
   "cell_type": "code",
   "execution_count": 8,
   "metadata": {},
   "outputs": [
    {
     "name": "stdout",
     "output_type": "stream",
     "text": [
      "tree_list before = ['oak']\n",
      "tree_list after  = ['oak', 'pine']\n"
     ]
    }
   ],
   "source": [
    "# [ ] Fix the Error\n",
    "tree_list = [\"oak\"]\n",
    "print(\"tree_list before =\", tree_list)\n",
    "tree_list.insert(1,\"pine\")\n",
    "print(\"tree_list after  =\", tree_list)\n",
    "\n"
   ]
  },
  {
   "cell_type": "markdown",
   "metadata": {},
   "source": [
    "[Terms of use](http://go.microsoft.com/fwlink/?LinkID=206977) &nbsp; [Privacy & cookies](https://go.microsoft.com/fwlink/?LinkId=521839) &nbsp; © 2017 Microsoft"
   ]
  }
 ],
 "metadata": {
  "anaconda-cloud": {},
  "kernelspec": {
   "display_name": "Python 3 (ipykernel)",
   "language": "python",
   "name": "python3"
  },
  "language_info": {
   "codemirror_mode": {
    "name": "ipython",
    "version": 3
   },
   "file_extension": ".py",
   "mimetype": "text/x-python",
   "name": "python",
   "nbconvert_exporter": "python",
   "pygments_lexer": "ipython3",
   "version": "3.9.7"
  }
 },
 "nbformat": 4,
 "nbformat_minor": 1
}

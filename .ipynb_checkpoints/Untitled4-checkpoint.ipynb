{
 "cells": [
  {
   "cell_type": "code",
   "execution_count": null,
   "id": "4963722c",
   "metadata": {},
   "outputs": [],
   "source": [
    "# [ ] Print each word in the quote on a new line  \n",
    "citation = \"they stumble who run fast \"\n",
    "begin = 0 \n",
    "indx_of_spc = citation.find(\" \")\n",
    "\n",
    "while indx_of_spc != -1: \n",
    "    print(citation[begin:indx_of_spc])\n",
    "    begin = indx_of_spc + 1\n",
    "    indx_of_spc = citation.find(\" \", space_index + 1)"
   ]
  },
  {
   "cell_type": "code",
   "execution_count": null,
   "id": "7ee43553",
   "metadata": {},
   "outputs": [],
   "source": []
  }
 ],
 "metadata": {
  "kernelspec": {
   "display_name": "Python 3 (ipykernel)",
   "language": "python",
   "name": "python3"
  },
  "language_info": {
   "codemirror_mode": {
    "name": "ipython",
    "version": 3
   },
   "file_extension": ".py",
   "mimetype": "text/x-python",
   "name": "python",
   "nbconvert_exporter": "python",
   "pygments_lexer": "ipython3",
   "version": "3.9.7"
  }
 },
 "nbformat": 4,
 "nbformat_minor": 5
}
